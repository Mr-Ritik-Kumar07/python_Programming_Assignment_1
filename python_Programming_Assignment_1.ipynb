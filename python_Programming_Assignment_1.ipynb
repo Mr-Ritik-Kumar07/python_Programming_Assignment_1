{
 "cells": [
  {
   "cell_type": "markdown",
   "id": "a5d2acfc-90ad-4ac4-bcc8-56b989857cb8",
   "metadata": {},
   "source": [
    "Q1. Write a Python program to print \"Hello Python\"."
   ]
  },
  {
   "cell_type": "code",
   "execution_count": 1,
   "id": "6312231b-75b8-410e-98ac-637b8349e339",
   "metadata": {},
   "outputs": [
    {
     "name": "stdout",
     "output_type": "stream",
     "text": [
      "hello python\n"
     ]
    }
   ],
   "source": [
    "print(\"hello python\")"
   ]
  },
  {
   "cell_type": "markdown",
   "id": "dc3e84b8-9fe0-4a16-9f50-cdd9a597d7f7",
   "metadata": {},
   "source": [
    "Q2. Write a Python program to do arithmetical operations addition and division."
   ]
  },
  {
   "cell_type": "code",
   "execution_count": 4,
   "id": "f757575a-d41e-4395-98c6-0946485c7527",
   "metadata": {},
   "outputs": [
    {
     "name": "stdin",
     "output_type": "stream",
     "text": [
      "enter the frist number :- 5\n",
      "enter the second number :- 6\n"
     ]
    },
    {
     "name": "stdout",
     "output_type": "stream",
     "text": [
      "sum of two numbers 11\n"
     ]
    }
   ],
   "source": [
    "num_1 = int(input(\"enter the frist number :-\"))\n",
    "num_2 = int(input(\"enter the second number :-\"))\n",
    "sum = num_1+num_2\n",
    "print(\"sum of two numbers\",sum)"
   ]
  },
  {
   "cell_type": "markdown",
   "id": "8989e776-9b3e-49cb-bafe-ae0800a5634d",
   "metadata": {},
   "source": [
    "Q3. Write a Python program to find the area of a triangle."
   ]
  },
  {
   "cell_type": "code",
   "execution_count": 15,
   "id": "dbb8f7ef-117e-4577-9193-629245c3bdc5",
   "metadata": {},
   "outputs": [
    {
     "name": "stdin",
     "output_type": "stream",
     "text": [
      "enter the base of triangle :- 10\n",
      "enter the hight of triangle :- 5\n"
     ]
    },
    {
     "name": "stdout",
     "output_type": "stream",
     "text": [
      "Area of tringle 25.0\n"
     ]
    }
   ],
   "source": [
    "base = int(input(\"enter the base of triangle :-\"))\n",
    "hight = int(input(\"enter the hight of triangle :-\"))\n",
    "area = 0.5*(base*hight)\n",
    "print(\"Area of tringle\",area)"
   ]
  },
  {
   "cell_type": "markdown",
   "id": "c3c5735d-6a80-49e9-ab87-dba2986c7aae",
   "metadata": {},
   "source": [
    "Q4. Write a Python program to swap two variables."
   ]
  },
  {
   "cell_type": "code",
   "execution_count": 17,
   "id": "fa173d28-5597-47a6-af45-a2a09e6e4078",
   "metadata": {},
   "outputs": [
    {
     "name": "stdin",
     "output_type": "stream",
     "text": [
      "Enter value of a:  23\n",
      "Enter value of b:  24\n"
     ]
    },
    {
     "name": "stdout",
     "output_type": "stream",
     "text": [
      "After swapping:\n",
      "a = 24\n",
      "b = 23\n"
     ]
    }
   ],
   "source": [
    "a = int(input(\"Enter value of a: \"))\n",
    "b = int(input(\"Enter value of b: \"))\n",
    "\n",
    "temp = a\n",
    "a = b\n",
    "b = temp\n",
    "\n",
    "print(\"After swapping:\")\n",
    "print(\"a =\", a)\n",
    "print(\"b =\", b)"
   ]
  },
  {
   "cell_type": "markdown",
   "id": "a5662dbe-d85f-4d13-bd66-1d06aed8e79c",
   "metadata": {},
   "source": [
    "Q5. Write a Python program to generate a random number."
   ]
  },
  {
   "cell_type": "code",
   "execution_count": 18,
   "id": "1cc1da00-ca6f-4162-a5c1-861f9c911f1e",
   "metadata": {},
   "outputs": [],
   "source": [
    "import random"
   ]
  },
  {
   "cell_type": "code",
   "execution_count": 19,
   "id": "32f0f195-39cc-4476-aad7-587a02225141",
   "metadata": {},
   "outputs": [],
   "source": [
    "r = random.random()"
   ]
  },
  {
   "cell_type": "code",
   "execution_count": 25,
   "id": "27475cbd-24eb-4a17-a52a-de5c05b1d581",
   "metadata": {},
   "outputs": [
    {
     "name": "stdout",
     "output_type": "stream",
     "text": [
      "random number between 0 to 5 :- 0.9647441396811741\n"
     ]
    }
   ],
   "source": [
    "print(\"random number between 0 to 5 :-\",r)"
   ]
  },
  {
   "cell_type": "code",
   "execution_count": null,
   "id": "1b4293e5-9c01-4ccf-921c-162d1e01debf",
   "metadata": {},
   "outputs": [],
   "source": []
  },
  {
   "cell_type": "code",
   "execution_count": null,
   "id": "417a6161-abc5-43dd-a161-75754af60c22",
   "metadata": {},
   "outputs": [],
   "source": []
  }
 ],
 "metadata": {
  "kernelspec": {
   "display_name": "Python 3 (ipykernel)",
   "language": "python",
   "name": "python3"
  },
  "language_info": {
   "codemirror_mode": {
    "name": "ipython",
    "version": 3
   },
   "file_extension": ".py",
   "mimetype": "text/x-python",
   "name": "python",
   "nbconvert_exporter": "python",
   "pygments_lexer": "ipython3",
   "version": "3.12.7"
  }
 },
 "nbformat": 4,
 "nbformat_minor": 5
}
